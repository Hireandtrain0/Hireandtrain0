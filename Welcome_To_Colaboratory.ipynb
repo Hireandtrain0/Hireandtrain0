{
  "cells": [
    {
      "cell_type": "markdown",
      "metadata": {
        "id": "view-in-github",
        "colab_type": "text"
      },
      "source": [
        "<a href=\"https://colab.research.google.com/github/Hireandtrain0/Hireandtrain0/blob/main/Welcome_To_Colaboratory.ipynb\" target=\"_parent\"><img src=\"https://colab.research.google.com/assets/colab-badge.svg\" alt=\"Open In Colab\"/></a>"
      ]
    },
    {
      "cell_type": "code",
      "source": [
        "x=\"hello\"\n",
        "y= 23\n",
        "print(x,  x)\n",
        "#type print\n",
        "\n",
        "print(type(x), type(y))\n",
        "\n"
      ],
      "metadata": {
        "colab": {
          "base_uri": "https://localhost:8080/"
        },
        "id": "mn8grWz5RntI",
        "outputId": "609341dc-c112-44aa-dd79-c5c83f24d99b"
      },
      "execution_count": 1,
      "outputs": [
        {
          "output_type": "stream",
          "name": "stdout",
          "text": [
            "hello hello\n",
            "<class 'str'> <class 'int'>\n"
          ]
        }
      ]
    },
    {
      "cell_type": "code",
      "source": [
        "e= \"hei all\"\n",
        "f= \"earth\"\n",
        "print(e); print(e)\n",
        "print(5+7, 5*7, 5/7\n",
        "      , 5-7, 5%7)\n",
        "e.split(\",\")\n",
        "\n",
        "\n",
        "\n"
      ],
      "metadata": {
        "colab": {
          "base_uri": "https://localhost:8080/"
        },
        "id": "B9QtW3xRT8nA",
        "outputId": "62567f66-0928-408e-d554-cdf5bd2082b2"
      },
      "execution_count": 2,
      "outputs": [
        {
          "output_type": "stream",
          "name": "stdout",
          "text": [
            "hei all\n",
            "hei all\n",
            "12 35 0.7142857142857143 -2 5\n"
          ]
        },
        {
          "output_type": "execute_result",
          "data": {
            "text/plain": [
              "['hei all']"
            ]
          },
          "metadata": {},
          "execution_count": 2
        }
      ]
    },
    {
      "cell_type": "code",
      "source": [
        "X= \"hello world-Hi,jk,-\"\n",
        "U= \"dk-(jdjfd, jfjdfjf(f-[,]))\"\n",
        "print(U.split(\"(\"))\n",
        "X.upper()\n",
        "U.lower()\n",
        "print(X+\" \"+U)\n",
        "6* X\n",
        "Y=\"v g\"\n",
        "Z= 5\n",
        "p= str(Z)\n",
        "print(Y +\" \"+ p)\n"
      ],
      "metadata": {
        "colab": {
          "base_uri": "https://localhost:8080/"
        },
        "id": "sjc7RtirW-ZS",
        "outputId": "77854d41-9ee4-4f8d-e27a-4bf3fb71810a"
      },
      "execution_count": 3,
      "outputs": [
        {
          "output_type": "stream",
          "name": "stdout",
          "text": [
            "['dk-', 'jdjfd, jfjdfjf', 'f-[,]))']\n",
            "hello world-Hi,jk,- dk-(jdjfd, jfjdfjf(f-[,]))\n",
            "v g 5\n"
          ]
        }
      ]
    },
    {
      "cell_type": "code",
      "source": [
        "y= \"hello\"\n",
        "i= \"world\"\n",
        "print(y+ \" \"+i)"
      ],
      "metadata": {
        "colab": {
          "base_uri": "https://localhost:8080/"
        },
        "id": "4Bkq240JaFzr",
        "outputId": "1aa95bb0-f0e9-46ad-a27a-7dde37d41e31"
      },
      "execution_count": 4,
      "outputs": [
        {
          "output_type": "stream",
          "name": "stdout",
          "text": [
            "hello world\n"
          ]
        }
      ]
    },
    {
      "cell_type": "code",
      "source": [
        "X= 75\n",
        "Y= \"Hello World\"\n",
        "print(\"Go\", X, Y)\n",
        "print(f\"Go {X} {Y}.\")"
      ],
      "metadata": {
        "colab": {
          "base_uri": "https://localhost:8080/"
        },
        "id": "KEEDjpkXZ8q_",
        "outputId": "133b539d-196e-40fe-84c0-bae4f1304e14"
      },
      "execution_count": 7,
      "outputs": [
        {
          "output_type": "stream",
          "name": "stdout",
          "text": [
            "Go 75 Hello World\n",
            "Go 75 Hello World.\n"
          ]
        }
      ]
    },
    {
      "cell_type": "code",
      "source": [],
      "metadata": {
        "id": "u5fQRqpkijXu"
      },
      "execution_count": null,
      "outputs": []
    }
  ],
  "metadata": {
    "colab": {
      "name": "Welcome To Colaboratory",
      "provenance": [],
      "include_colab_link": true
    },
    "kernelspec": {
      "display_name": "Python 3",
      "name": "python3"
    }
  },
  "nbformat": 4,
  "nbformat_minor": 0
}